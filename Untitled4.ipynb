{
  "nbformat": 4,
  "nbformat_minor": 0,
  "metadata": {
    "colab": {
      "provenance": [],
      "mount_file_id": "1g1XBmKZfiMWBqPRSAPdGTNP7pGOoO0k4",
      "authorship_tag": "ABX9TyOnyaAvlbMIz8ocGspXk0gG",
      "include_colab_link": true
    },
    "kernelspec": {
      "name": "python3",
      "display_name": "Python 3"
    },
    "language_info": {
      "name": "python"
    }
  },
  "cells": [
    {
      "cell_type": "markdown",
      "metadata": {
        "id": "view-in-github",
        "colab_type": "text"
      },
      "source": [
        "<a href=\"https://colab.research.google.com/github/jessynalani/jessynalani/blob/main/Untitled4.ipynb\" target=\"_parent\"><img src=\"https://colab.research.google.com/assets/colab-badge.svg\" alt=\"Open In Colab\"/></a>"
      ]
    },
    {
      "cell_type": "markdown",
      "source": [
        "# **TITANIC DATASET PRACTICE**"
      ],
      "metadata": {
        "id": "HrIt87mBlCu-"
      }
    },
    {
      "cell_type": "code",
      "source": [
        "import pandas as pd\n",
        "import numpy as np\n",
        "import matplotlib.pyplot as plt\n",
        "import seaborn as sns"
      ],
      "metadata": {
        "id": "TzhEsaxiMLEl"
      },
      "execution_count": null,
      "outputs": []
    },
    {
      "cell_type": "code",
      "execution_count": null,
      "metadata": {
        "id": "BdP6YxJhlBUi"
      },
      "outputs": [],
      "source": [
        "path = \"/content/drive/MyDrive/Titanic Dataset/Titanic-Dataset.csv\"\n",
        "\n",
        "df= pd.read_csv(path)"
      ]
    }
  ]
}